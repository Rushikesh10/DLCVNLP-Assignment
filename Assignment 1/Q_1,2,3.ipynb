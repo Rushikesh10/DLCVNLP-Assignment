{
  "nbformat": 4,
  "nbformat_minor": 0,
  "metadata": {
    "colab": {
      "name": "Q-1,2,3.ipynb",
      "provenance": []
    },
    "kernelspec": {
      "name": "python3",
      "display_name": "Python 3"
    }
  },
  "cells": [
    {
      "cell_type": "markdown",
      "metadata": {
        "id": "QI4mUEZmhNNu",
        "colab_type": "text"
      },
      "source": [
        "# 1\n",
        "Write a program which will find all such numbers which are divisible by 7 but are not a multiple of 5, between 2000 and 3200 (both included). The numbers obtained should be printed in acomma-separated sequence on a single line."
      ]
    },
    {
      "cell_type": "code",
      "metadata": {
        "id": "xpJUPoYFgXYA",
        "colab_type": "code",
        "colab": {
          "base_uri": "https://localhost:8080/",
          "height": 54
        },
        "outputId": "36f7853b-b526-4838-ce8f-0b4b1c2a54d4"
      },
      "source": [
        "l=[]\n",
        "for i in range(2000,3201):\n",
        "  if(i%7==0 and i%5!=0):\n",
        "    l.append(str(i))\n",
        "    \n",
        "print(','.join(l))"
      ],
      "execution_count": 11,
      "outputs": [
        {
          "output_type": "stream",
          "text": [
            "2002,2009,2016,2023,2037,2044,2051,2058,2072,2079,2086,2093,2107,2114,2121,2128,2142,2149,2156,2163,2177,2184,2191,2198,2212,2219,2226,2233,2247,2254,2261,2268,2282,2289,2296,2303,2317,2324,2331,2338,2352,2359,2366,2373,2387,2394,2401,2408,2422,2429,2436,2443,2457,2464,2471,2478,2492,2499,2506,2513,2527,2534,2541,2548,2562,2569,2576,2583,2597,2604,2611,2618,2632,2639,2646,2653,2667,2674,2681,2688,2702,2709,2716,2723,2737,2744,2751,2758,2772,2779,2786,2793,2807,2814,2821,2828,2842,2849,2856,2863,2877,2884,2891,2898,2912,2919,2926,2933,2947,2954,2961,2968,2982,2989,2996,3003,3017,3024,3031,3038,3052,3059,3066,3073,3087,3094,3101,3108,3122,3129,3136,3143,3157,3164,3171,3178,3192,3199\n"
          ],
          "name": "stdout"
        }
      ]
    },
    {
      "cell_type": "markdown",
      "metadata": {
        "id": "-5-zXwRzjViG",
        "colab_type": "text"
      },
      "source": [
        "#2\n",
        "Write a Python program to accept the user's first and last name and then getting them printed in the reverse order with a space between first name and last name"
      ]
    },
    {
      "cell_type": "code",
      "metadata": {
        "id": "JlgH2jQIhwmH",
        "colab_type": "code",
        "colab": {
          "base_uri": "https://localhost:8080/",
          "height": 50
        },
        "outputId": "f02297cb-474f-4141-f705-d90fe084cdc6"
      },
      "source": [
        "f,l=input(\"Enter Name\").split(\" \")\n",
        "f1=f[::-1]\n",
        "l1=l[::-1]\n",
        "print(l1,' ',f1)"
      ],
      "execution_count": 15,
      "outputs": [
        {
          "output_type": "stream",
          "text": [
            "Enter NameRushikesh Patil\n",
            "litaP   hsekihsuR\n"
          ],
          "name": "stdout"
        }
      ]
    },
    {
      "cell_type": "markdown",
      "metadata": {
        "id": "n8iVqVj7kxrp",
        "colab_type": "text"
      },
      "source": [
        "#3\n",
        "Write a Python program to find the volume of a sphere with diameter 12 cm.\n",
        "Formula: V=4/3 π r 3"
      ]
    },
    {
      "cell_type": "code",
      "metadata": {
        "id": "9XwQ7mTHkBVk",
        "colab_type": "code",
        "colab": {
          "base_uri": "https://localhost:8080/",
          "height": 34
        },
        "outputId": "9f298321-bb52-42cb-8204-3ac0d699b8a8"
      },
      "source": [
        "import math\n",
        "\n",
        "d=12\n",
        "r=d/2\n",
        "v=((4/3)*math.pi*(r**3))\n",
        "print(\"Volume of Sphere is\",round(v,2),'Cubic cm.')"
      ],
      "execution_count": 26,
      "outputs": [
        {
          "output_type": "stream",
          "text": [
            "Volume of Sphere is 904.78 Cubic cm.\n"
          ],
          "name": "stdout"
        }
      ]
    },
    {
      "cell_type": "code",
      "metadata": {
        "id": "qXy2Yl6vlHP2",
        "colab_type": "code",
        "colab": {}
      },
      "source": [
        ""
      ],
      "execution_count": 0,
      "outputs": []
    }
  ]
}